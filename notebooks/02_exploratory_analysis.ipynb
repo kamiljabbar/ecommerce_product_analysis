{
 "cells": [
  {
   "cell_type": "markdown",
   "id": "41164913",
   "metadata": {},
   "source": [
    "# 02 Exploratory Analysis\n",
    "Overall sales and revenue trends."
   ]
  },
  {
   "cell_type": "code",
   "execution_count": null,
   "id": "e76dcb4c",
   "metadata": {},
   "outputs": [],
   "source": [
    "import pandas as pd\n",
    "import matplotlib.pyplot as plt\n",
    "df = pd.read_csv('../data/product_data.csv', parse_dates=['date'])\n",
    "daily = df.groupby('date').agg({'units_sold':'sum','revenue':'sum'}).reset_index()"
   ]
  },
  {
   "cell_type": "code",
   "execution_count": null,
   "id": "bbff9637",
   "metadata": {},
   "outputs": [],
   "source": [
    "plt.figure(figsize=(10,5)); plt.plot(daily['date'], daily['revenue']); plt.title('Daily Revenue Trend'); plt.show()"
   ]
  },
  {
   "cell_type": "code",
   "execution_count": null,
   "id": "3a4cd4a2",
   "metadata": {},
   "outputs": [],
   "source": [
    "plt.figure(figsize=(10,5)); plt.plot(daily['date'], daily['units_sold']); plt.title('Daily Units Sold Trend'); plt.show()"
   ]
  }
 ],
 "metadata": {},
 "nbformat": 4,
 "nbformat_minor": 5
}
