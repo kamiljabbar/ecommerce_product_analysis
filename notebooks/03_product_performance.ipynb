{
 "cells": [
  {
   "cell_type": "markdown",
   "id": "e3235833",
   "metadata": {},
   "source": [
    "# 03 Product Performance\n",
    "Aggregate KPIs by product and category."
   ]
  },
  {
   "cell_type": "code",
   "execution_count": null,
   "id": "ce571389",
   "metadata": {},
   "outputs": [],
   "source": [
    "import pandas as pd\n",
    "import matplotlib.pyplot as plt\n",
    "summary = pd.read_csv('../data/product_summary.csv')"
   ]
  },
  {
   "cell_type": "code",
   "execution_count": null,
   "id": "a5003c81",
   "metadata": {},
   "outputs": [],
   "source": [
    "plt.figure(figsize=(8,4)); plt.bar(summary['product_id'], summary['revenue']); plt.title('Revenue by Product'); plt.xticks(rotation=45); plt.show()"
   ]
  },
  {
   "cell_type": "code",
   "execution_count": null,
   "id": "9e73b2fc",
   "metadata": {},
   "outputs": [],
   "source": [
    "plt.figure(figsize=(8,4)); plt.bar(summary['product_id'], summary['profit_margin']); plt.title('Profit Margin by Product'); plt.xticks(rotation=45); plt.show()"
   ]
  },
  {
   "cell_type": "code",
   "execution_count": null,
   "id": "65c76c40",
   "metadata": {},
   "outputs": [],
   "source": [
    "plt.figure(figsize=(8,4)); plt.bar(summary['category'], summary.groupby('category')['revenue'].sum().values); plt.title('Revenue by Category'); plt.xticks(rotation=45); plt.show()"
   ]
  },
  {
   "cell_type": "markdown",
   "id": "e5138631",
   "metadata": {},
   "source": [
    "## Return Rate Analysis"
   ]
  },
  {
   "cell_type": "code",
   "execution_count": null,
   "id": "8874ffde",
   "metadata": {},
   "outputs": [],
   "source": [
    "plt.figure(figsize=(6,4)); plt.bar(summary['product_id'], summary['return_rate']); plt.title('Return Rate by Product'); plt.xticks(rotation=45); plt.show()"
   ]
  }
 ],
 "metadata": {},
 "nbformat": 4,
 "nbformat_minor": 5
}
