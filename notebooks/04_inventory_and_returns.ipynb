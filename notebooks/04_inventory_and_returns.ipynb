{
 "cells": [
  {
   "cell_type": "markdown",
   "id": "1086cacf",
   "metadata": {},
   "source": [
    "# 04 Inventory & Returns Analysis\n",
    "Analyze inventory turnover and return impact."
   ]
  },
  {
   "cell_type": "code",
   "execution_count": null,
   "id": "89fa573d",
   "metadata": {},
   "outputs": [],
   "source": [
    "import pandas as pd\n",
    "import matplotlib.pyplot as plt\n",
    "summary = pd.read_csv('../data/product_summary.csv')"
   ]
  },
  {
   "cell_type": "code",
   "execution_count": null,
   "id": "d52e7c9a",
   "metadata": {},
   "outputs": [],
   "source": [
    "plt.figure(figsize=(8,4)); plt.bar(summary['product_id'], summary['inventory_turnover']); plt.title('Inventory Turnover by Product'); plt.xticks(rotation=45); plt.show()"
   ]
  },
  {
   "cell_type": "markdown",
   "id": "1eb459a5",
   "metadata": {},
   "source": [
    "## Return Impact on Profit"
   ]
  },
  {
   "cell_type": "code",
   "execution_count": null,
   "id": "306a3385",
   "metadata": {},
   "outputs": [],
   "source": [
    "plt.figure(figsize=(6,4)); plt.scatter(summary['return_rate'], summary['profit_margin']); plt.xlabel('Return Rate'); plt.ylabel('Profit Margin'); plt.title('Return Rate vs Profit Margin'); plt.show()"
   ]
  }
 ],
 "metadata": {},
 "nbformat": 4,
 "nbformat_minor": 5
}
