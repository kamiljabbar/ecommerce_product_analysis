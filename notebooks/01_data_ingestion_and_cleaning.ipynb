{
 "cells": [
  {
   "cell_type": "markdown",
   "id": "40c19be3",
   "metadata": {},
   "source": [
    "# 01 Data Ingestion & Cleaning\n",
    "Load synthetic e-commerce product data and inspect."
   ]
  },
  {
   "cell_type": "code",
   "execution_count": null,
   "id": "590182fd",
   "metadata": {},
   "outputs": [],
   "source": [
    "import pandas as pd\n",
    "df = pd.read_csv('../data/product_data.csv', parse_dates=['date'])\n",
    "df.head()"
   ]
  },
  {
   "cell_type": "markdown",
   "id": "44340a72",
   "metadata": {},
   "source": [
    "## Inspect Data\n",
    "Check data types, missing values, and distributions."
   ]
  },
  {
   "cell_type": "code",
   "execution_count": null,
   "id": "870d7e23",
   "metadata": {},
   "outputs": [],
   "source": [
    "df.info()\n",
    "df.describe()"
   ]
  }
 ],
 "metadata": {},
 "nbformat": 4,
 "nbformat_minor": 5
}
